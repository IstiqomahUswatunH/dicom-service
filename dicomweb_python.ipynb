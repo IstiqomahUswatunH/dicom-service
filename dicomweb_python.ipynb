{
 "cells": [
  {
   "cell_type": "code",
   "execution_count": 87,
   "metadata": {},
   "outputs": [
    {
     "name": "stdout",
     "output_type": "stream",
     "text": [
      "Requirement already satisfied: azure-keyvault-secrets==4.7.0 in c:\\users\\asus\\anaconda3\\envs\\dicomservice\\lib\\site-packages (4.7.0)\n",
      "Requirement already satisfied: azure-common~=1.1 in c:\\users\\asus\\anaconda3\\envs\\dicomservice\\lib\\site-packages (from azure-keyvault-secrets==4.7.0) (1.1.28)\n",
      "Requirement already satisfied: azure-core<2.0.0,>=1.24.0 in c:\\users\\asus\\anaconda3\\envs\\dicomservice\\lib\\site-packages (from azure-keyvault-secrets==4.7.0) (1.29.7)\n",
      "Requirement already satisfied: isodate>=0.6.1 in c:\\users\\asus\\anaconda3\\envs\\dicomservice\\lib\\site-packages (from azure-keyvault-secrets==4.7.0) (0.6.1)\n",
      "Requirement already satisfied: typing-extensions>=4.0.1 in c:\\users\\asus\\anaconda3\\envs\\dicomservice\\lib\\site-packages (from azure-keyvault-secrets==4.7.0) (4.9.0)\n",
      "Requirement already satisfied: requests>=2.21.0 in c:\\users\\asus\\anaconda3\\envs\\dicomservice\\lib\\site-packages (from azure-core<2.0.0,>=1.24.0->azure-keyvault-secrets==4.7.0) (2.31.0)\n",
      "Requirement already satisfied: six>=1.11.0 in c:\\users\\asus\\anaconda3\\envs\\dicomservice\\lib\\site-packages (from azure-core<2.0.0,>=1.24.0->azure-keyvault-secrets==4.7.0) (1.16.0)\n",
      "Requirement already satisfied: charset-normalizer<4,>=2 in c:\\users\\asus\\anaconda3\\envs\\dicomservice\\lib\\site-packages (from requests>=2.21.0->azure-core<2.0.0,>=1.24.0->azure-keyvault-secrets==4.7.0) (3.3.2)\n",
      "Requirement already satisfied: idna<4,>=2.5 in c:\\users\\asus\\anaconda3\\envs\\dicomservice\\lib\\site-packages (from requests>=2.21.0->azure-core<2.0.0,>=1.24.0->azure-keyvault-secrets==4.7.0) (3.6)\n",
      "Requirement already satisfied: urllib3<3,>=1.21.1 in c:\\users\\asus\\anaconda3\\envs\\dicomservice\\lib\\site-packages (from requests>=2.21.0->azure-core<2.0.0,>=1.24.0->azure-keyvault-secrets==4.7.0) (2.1.0)\n",
      "Requirement already satisfied: certifi>=2017.4.17 in c:\\users\\asus\\anaconda3\\envs\\dicomservice\\lib\\site-packages (from requests>=2.21.0->azure-core<2.0.0,>=1.24.0->azure-keyvault-secrets==4.7.0) (2023.11.17)\n",
      "Requirement already satisfied: azure-identity in c:\\users\\asus\\anaconda3\\envs\\dicomservice\\lib\\site-packages (1.15.0)\n",
      "Requirement already satisfied: azure-core<2.0.0,>=1.23.0 in c:\\users\\asus\\anaconda3\\envs\\dicomservice\\lib\\site-packages (from azure-identity) (1.29.7)\n",
      "Requirement already satisfied: cryptography>=2.5 in c:\\users\\asus\\anaconda3\\envs\\dicomservice\\lib\\site-packages (from azure-identity) (41.0.7)\n",
      "Requirement already satisfied: msal<2.0.0,>=1.24.0 in c:\\users\\asus\\anaconda3\\envs\\dicomservice\\lib\\site-packages (from azure-identity) (1.26.0)\n",
      "Requirement already satisfied: msal-extensions<2.0.0,>=0.3.0 in c:\\users\\asus\\anaconda3\\envs\\dicomservice\\lib\\site-packages (from azure-identity) (1.1.0)\n",
      "Requirement already satisfied: requests>=2.21.0 in c:\\users\\asus\\anaconda3\\envs\\dicomservice\\lib\\site-packages (from azure-core<2.0.0,>=1.23.0->azure-identity) (2.31.0)\n",
      "Requirement already satisfied: six>=1.11.0 in c:\\users\\asus\\anaconda3\\envs\\dicomservice\\lib\\site-packages (from azure-core<2.0.0,>=1.23.0->azure-identity) (1.16.0)\n",
      "Requirement already satisfied: typing-extensions>=4.6.0 in c:\\users\\asus\\anaconda3\\envs\\dicomservice\\lib\\site-packages (from azure-core<2.0.0,>=1.23.0->azure-identity) (4.9.0)\n",
      "Requirement already satisfied: cffi>=1.12 in c:\\users\\asus\\anaconda3\\envs\\dicomservice\\lib\\site-packages (from cryptography>=2.5->azure-identity) (1.16.0)\n",
      "Requirement already satisfied: PyJWT<3,>=1.0.0 in c:\\users\\asus\\anaconda3\\envs\\dicomservice\\lib\\site-packages (from PyJWT[crypto]<3,>=1.0.0->msal<2.0.0,>=1.24.0->azure-identity) (2.8.0)\n",
      "Requirement already satisfied: packaging in c:\\users\\asus\\anaconda3\\envs\\dicomservice\\lib\\site-packages (from msal-extensions<2.0.0,>=0.3.0->azure-identity) (23.2)\n",
      "Requirement already satisfied: portalocker<3,>=1.6 in c:\\users\\asus\\anaconda3\\envs\\dicomservice\\lib\\site-packages (from msal-extensions<2.0.0,>=0.3.0->azure-identity) (2.8.2)\n",
      "Requirement already satisfied: pycparser in c:\\users\\asus\\anaconda3\\envs\\dicomservice\\lib\\site-packages (from cffi>=1.12->cryptography>=2.5->azure-identity) (2.21)\n",
      "Requirement already satisfied: pywin32>=226 in c:\\users\\asus\\anaconda3\\envs\\dicomservice\\lib\\site-packages (from portalocker<3,>=1.6->msal-extensions<2.0.0,>=0.3.0->azure-identity) (305.1)\n",
      "Requirement already satisfied: charset-normalizer<4,>=2 in c:\\users\\asus\\anaconda3\\envs\\dicomservice\\lib\\site-packages (from requests>=2.21.0->azure-core<2.0.0,>=1.23.0->azure-identity) (3.3.2)\n",
      "Requirement already satisfied: idna<4,>=2.5 in c:\\users\\asus\\anaconda3\\envs\\dicomservice\\lib\\site-packages (from requests>=2.21.0->azure-core<2.0.0,>=1.23.0->azure-identity) (3.6)\n",
      "Requirement already satisfied: urllib3<3,>=1.21.1 in c:\\users\\asus\\anaconda3\\envs\\dicomservice\\lib\\site-packages (from requests>=2.21.0->azure-core<2.0.0,>=1.23.0->azure-identity) (2.1.0)\n",
      "Requirement already satisfied: certifi>=2017.4.17 in c:\\users\\asus\\anaconda3\\envs\\dicomservice\\lib\\site-packages (from requests>=2.21.0->azure-core<2.0.0,>=1.23.0->azure-identity) (2023.11.17)\n",
      "Requirement already satisfied: azure-mgmt-resource in c:\\users\\asus\\anaconda3\\envs\\dicomservice\\lib\\site-packages (23.0.1)\n",
      "Requirement already satisfied: isodate<1.0.0,>=0.6.1 in c:\\users\\asus\\anaconda3\\envs\\dicomservice\\lib\\site-packages (from azure-mgmt-resource) (0.6.1)\n",
      "Requirement already satisfied: azure-common~=1.1 in c:\\users\\asus\\anaconda3\\envs\\dicomservice\\lib\\site-packages (from azure-mgmt-resource) (1.1.28)\n",
      "Requirement already satisfied: azure-mgmt-core<2.0.0,>=1.3.2 in c:\\users\\asus\\anaconda3\\envs\\dicomservice\\lib\\site-packages (from azure-mgmt-resource) (1.4.0)\n",
      "Requirement already satisfied: azure-core<2.0.0,>=1.26.2 in c:\\users\\asus\\anaconda3\\envs\\dicomservice\\lib\\site-packages (from azure-mgmt-core<2.0.0,>=1.3.2->azure-mgmt-resource) (1.29.7)\n",
      "Requirement already satisfied: six in c:\\users\\asus\\anaconda3\\envs\\dicomservice\\lib\\site-packages (from isodate<1.0.0,>=0.6.1->azure-mgmt-resource) (1.16.0)\n",
      "Requirement already satisfied: requests>=2.21.0 in c:\\users\\asus\\anaconda3\\envs\\dicomservice\\lib\\site-packages (from azure-core<2.0.0,>=1.26.2->azure-mgmt-core<2.0.0,>=1.3.2->azure-mgmt-resource) (2.31.0)\n",
      "Requirement already satisfied: typing-extensions>=4.6.0 in c:\\users\\asus\\anaconda3\\envs\\dicomservice\\lib\\site-packages (from azure-core<2.0.0,>=1.26.2->azure-mgmt-core<2.0.0,>=1.3.2->azure-mgmt-resource) (4.9.0)\n",
      "Requirement already satisfied: charset-normalizer<4,>=2 in c:\\users\\asus\\anaconda3\\envs\\dicomservice\\lib\\site-packages (from requests>=2.21.0->azure-core<2.0.0,>=1.26.2->azure-mgmt-core<2.0.0,>=1.3.2->azure-mgmt-resource) (3.3.2)\n",
      "Requirement already satisfied: idna<4,>=2.5 in c:\\users\\asus\\anaconda3\\envs\\dicomservice\\lib\\site-packages (from requests>=2.21.0->azure-core<2.0.0,>=1.26.2->azure-mgmt-core<2.0.0,>=1.3.2->azure-mgmt-resource) (3.6)\n",
      "Requirement already satisfied: urllib3<3,>=1.21.1 in c:\\users\\asus\\anaconda3\\envs\\dicomservice\\lib\\site-packages (from requests>=2.21.0->azure-core<2.0.0,>=1.26.2->azure-mgmt-core<2.0.0,>=1.3.2->azure-mgmt-resource) (2.1.0)\n",
      "Requirement already satisfied: certifi>=2017.4.17 in c:\\users\\asus\\anaconda3\\envs\\dicomservice\\lib\\site-packages (from requests>=2.21.0->azure-core<2.0.0,>=1.26.2->azure-mgmt-core<2.0.0,>=1.3.2->azure-mgmt-resource) (2023.11.17)\n",
      "Requirement already satisfied: Flask in c:\\users\\asus\\anaconda3\\envs\\dicomservice\\lib\\site-packages (3.0.1)\n",
      "Requirement already satisfied: Werkzeug>=3.0.0 in c:\\users\\asus\\anaconda3\\envs\\dicomservice\\lib\\site-packages (from Flask) (3.0.1)\n",
      "Requirement already satisfied: Jinja2>=3.1.2 in c:\\users\\asus\\anaconda3\\envs\\dicomservice\\lib\\site-packages (from Flask) (3.1.3)\n",
      "Requirement already satisfied: itsdangerous>=2.1.2 in c:\\users\\asus\\anaconda3\\envs\\dicomservice\\lib\\site-packages (from Flask) (2.1.2)\n",
      "Requirement already satisfied: click>=8.1.3 in c:\\users\\asus\\anaconda3\\envs\\dicomservice\\lib\\site-packages (from Flask) (8.1.7)\n",
      "Requirement already satisfied: blinker>=1.6.2 in c:\\users\\asus\\anaconda3\\envs\\dicomservice\\lib\\site-packages (from Flask) (1.7.0)\n",
      "Requirement already satisfied: colorama in c:\\users\\asus\\anaconda3\\envs\\dicomservice\\lib\\site-packages (from click>=8.1.3->Flask) (0.4.6)\n",
      "Requirement already satisfied: MarkupSafe>=2.0 in c:\\users\\asus\\anaconda3\\envs\\dicomservice\\lib\\site-packages (from Jinja2>=3.1.2->Flask) (2.1.4)\n"
     ]
    }
   ],
   "source": [
    "!pip install azure-keyvault-secrets==4.7.0\n",
    "!pip install azure-identity\n",
    "!pip install azure-mgmt-resource\n",
    "!pip install Flask\n",
    "!pip install pydicom"
   ]
  },
  {
   "cell_type": "code",
   "execution_count": 88,
   "metadata": {},
   "outputs": [
    {
     "name": "stdout",
     "output_type": "stream",
     "text": [
      "Requirement already satisfied: pydicom in c:\\users\\asus\\anaconda3\\envs\\dicomservice\\lib\\site-packages (2.4.4)\n"
     ]
    }
   ],
   "source": [
    "!pip install pydicom"
   ]
  },
  {
   "cell_type": "code",
   "execution_count": 1,
   "metadata": {},
   "outputs": [],
   "source": [
    "import requests\n",
    "import pydicom\n",
    "from pathlib import Path\n",
    "from urllib3.filepost import encode_multipart_formdata, choose_boundary"
   ]
  },
  {
   "cell_type": "markdown",
   "metadata": {},
   "source": [
    "Configure user-defined variables"
   ]
  },
  {
   "cell_type": "code",
   "execution_count": 2,
   "metadata": {},
   "outputs": [],
   "source": [
    "dicom_service_name = \"demo-dicom-service\"\n",
    "path_to_dicoms_dir = r\"C:\\Users\\Asus\\dicomservice\\dicom-files\"\n",
    "\n",
    "Service_URL= 'https://dicomdemogroup-demo-dicom-service.dicom.azurehealthcareapis.com'\n",
    "version=1\n",
    "\n",
    "base_url = f\"{Service_URL}/v{version}\"\n",
    "\n",
    "study_uid = \"1.2.826.0.1.3680043.8.498.13230779778012324449356534479549187420\"; #StudyInstanceUID for all 3 examples\n",
    "series_uid = \"1.2.826.0.1.3680043.8.498.45787841905473114233124723359129632652\"; #SeriesInstanceUID for green-square and red-triangle\n",
    "instance_uid = \"1.2.826.0.1.3680043.8.498.47359123102728459884412887463296905395\"; #SOPInstanceUID for red-triangle"
   ]
  },
  {
   "cell_type": "code",
   "execution_count": 91,
   "metadata": {},
   "outputs": [
    {
     "name": "stdout",
     "output_type": "stream",
     "text": [
      "https://dicomdemogroup-demo-dicom-service.dicom.azurehealthcareapis.com/v1\n",
      "C:\\Users\\Asus\\dicomservice\\dicom-files\n",
      "demo-dicom-service\n"
     ]
    }
   ],
   "source": [
    "print(base_url)\n",
    "print(path_to_dicoms_dir)\n",
    "print(dicom_service_name)"
   ]
  },
  {
   "cell_type": "markdown",
   "metadata": {},
   "source": [
    "\n",
    "Authenticate to Azure and get a token"
   ]
  },
  {
   "cell_type": "code",
   "execution_count": 92,
   "metadata": {},
   "outputs": [
    {
     "name": "stdout",
     "output_type": "stream",
     "text": [
      "Requirement already satisfied: azure-identity in c:\\users\\asus\\anaconda3\\envs\\dicomservice\\lib\\site-packages (1.15.0)\n",
      "Requirement already satisfied: azure-core<2.0.0,>=1.23.0 in c:\\users\\asus\\anaconda3\\envs\\dicomservice\\lib\\site-packages (from azure-identity) (1.29.7)\n",
      "Requirement already satisfied: cryptography>=2.5 in c:\\users\\asus\\anaconda3\\envs\\dicomservice\\lib\\site-packages (from azure-identity) (41.0.7)\n",
      "Requirement already satisfied: msal<2.0.0,>=1.24.0 in c:\\users\\asus\\anaconda3\\envs\\dicomservice\\lib\\site-packages (from azure-identity) (1.26.0)\n",
      "Requirement already satisfied: msal-extensions<2.0.0,>=0.3.0 in c:\\users\\asus\\anaconda3\\envs\\dicomservice\\lib\\site-packages (from azure-identity) (1.1.0)\n",
      "Requirement already satisfied: requests>=2.21.0 in c:\\users\\asus\\anaconda3\\envs\\dicomservice\\lib\\site-packages (from azure-core<2.0.0,>=1.23.0->azure-identity) (2.31.0)\n",
      "Requirement already satisfied: six>=1.11.0 in c:\\users\\asus\\anaconda3\\envs\\dicomservice\\lib\\site-packages (from azure-core<2.0.0,>=1.23.0->azure-identity) (1.16.0)\n",
      "Requirement already satisfied: typing-extensions>=4.6.0 in c:\\users\\asus\\anaconda3\\envs\\dicomservice\\lib\\site-packages (from azure-core<2.0.0,>=1.23.0->azure-identity) (4.9.0)\n",
      "Requirement already satisfied: cffi>=1.12 in c:\\users\\asus\\anaconda3\\envs\\dicomservice\\lib\\site-packages (from cryptography>=2.5->azure-identity) (1.16.0)\n",
      "Requirement already satisfied: PyJWT<3,>=1.0.0 in c:\\users\\asus\\anaconda3\\envs\\dicomservice\\lib\\site-packages (from PyJWT[crypto]<3,>=1.0.0->msal<2.0.0,>=1.24.0->azure-identity) (2.8.0)\n",
      "Requirement already satisfied: packaging in c:\\users\\asus\\anaconda3\\envs\\dicomservice\\lib\\site-packages (from msal-extensions<2.0.0,>=0.3.0->azure-identity) (23.2)\n",
      "Requirement already satisfied: portalocker<3,>=1.6 in c:\\users\\asus\\anaconda3\\envs\\dicomservice\\lib\\site-packages (from msal-extensions<2.0.0,>=0.3.0->azure-identity) (2.8.2)\n",
      "Requirement already satisfied: pycparser in c:\\users\\asus\\anaconda3\\envs\\dicomservice\\lib\\site-packages (from cffi>=1.12->cryptography>=2.5->azure-identity) (2.21)\n",
      "Requirement already satisfied: pywin32>=226 in c:\\users\\asus\\anaconda3\\envs\\dicomservice\\lib\\site-packages (from portalocker<3,>=1.6->msal-extensions<2.0.0,>=0.3.0->azure-identity) (305.1)\n",
      "Requirement already satisfied: charset-normalizer<4,>=2 in c:\\users\\asus\\anaconda3\\envs\\dicomservice\\lib\\site-packages (from requests>=2.21.0->azure-core<2.0.0,>=1.23.0->azure-identity) (3.3.2)\n",
      "Requirement already satisfied: idna<4,>=2.5 in c:\\users\\asus\\anaconda3\\envs\\dicomservice\\lib\\site-packages (from requests>=2.21.0->azure-core<2.0.0,>=1.23.0->azure-identity) (3.6)\n",
      "Requirement already satisfied: urllib3<3,>=1.21.1 in c:\\users\\asus\\anaconda3\\envs\\dicomservice\\lib\\site-packages (from requests>=2.21.0->azure-core<2.0.0,>=1.23.0->azure-identity) (2.1.0)\n",
      "Requirement already satisfied: certifi>=2017.4.17 in c:\\users\\asus\\anaconda3\\envs\\dicomservice\\lib\\site-packages (from requests>=2.21.0->azure-core<2.0.0,>=1.23.0->azure-identity) (2023.11.17)\n",
      "Note: you may need to restart the kernel to use updated packages.\n"
     ]
    }
   ],
   "source": [
    "%pip install azure-identity"
   ]
  },
  {
   "cell_type": "code",
   "execution_count": 9,
   "metadata": {},
   "outputs": [],
   "source": [
    "token = \"*****\""
   ]
  },
  {
   "cell_type": "code",
   "execution_count": 10,
   "metadata": {},
   "outputs": [
    {
     "name": "stdout",
     "output_type": "stream",
     "text": [
      "Bearer eyJ0eXAiOiJKV1QiLCJhbGciOiJSUzI1NiIsIng1dCI6IjVCM25SeHRRN2ppOGVORGMzRnkwNUtmOTdaRSIsImtpZCI6IjVCM25SeHRRN2ppOGVORGMzRnkwNUtmOTdaRSJ9.eyJhdWQiOiJodHRwczovL2RpY29tLmhlYWx0aGNhcmVhcGlzLmF6dXJlLmNvbSIsImlzcyI6Imh0dHBzOi8vc3RzLndpbmRvd3MubmV0L2FmMmMwNzM0LWNiNDItNDY0Zi1iNmJmLTJhMjQxYjZhZGE1Ni8iLCJpYXQiOjE3MDU5MzA5NTgsIm5iZiI6MTcwNTkzMDk1OCwiZXhwIjoxNzA1OTM2NTI3LCJhY3IiOiIxIiwiYWlvIjoiQVRRQXkvOFZBQUFBSTdCVUlEbml0cGp5d08yeTlXRjVPN1Z0TU5MUmpSdG5CVXJEOXNNMTIxVzV4eFRoNHBxNVdhSUhCL2FOQXJGaiIsImFwcGlkIjoiMDRiMDc3OTUtOGRkYi00NjFhLWJiZWUtMDJmOWUxYmY3YjQ2IiwiYXBwaWRhY3IiOiIwIiwiZ2l2ZW5fbmFtZSI6Imhhc2FuYWguMTAxMDUiLCJpcGFkZHIiOiIyMC4xOTUuMC4xMjUiLCJuYW1lIjoiaGFzYW5haC4xMDEwNSIsIm9pZCI6IjZhOGNiNzUzLWIxZDQtNDY4Zi1hZTc5LTkwODk3NTkwZjRmMCIsInB1aWQiOiIxMDAzMjAwMEM1QUEyQzUwIiwicmgiOiIwLkFWTUFOQWNzcjBMTFQwYTJ2eW9rRzJyYVZyOGw1M1hPWnVwTW01cGNUS3JsZnpOVEFGOC4iLCJzY3AiOiJ1c2VyX2ltcGVyc29uYXRpb24iLCJzdWIiOiJ1M2JpVEV1dTBsX3NQMV9XSUFtdmp3ODNyMEZGN1RfVTRVNVg4ZnFnRTBrIiwidGlkIjoiYWYyYzA3MzQtY2I0Mi00NjRmLWI2YmYtMmEyNDFiNmFkYTU2IiwidW5pcXVlX25hbWUiOiJoYXNhbmFoLjEwMTA1QDM2NS51Z20uYWMuaWQiLCJ1cG4iOiJoYXNhbmFoLjEwMTA1QDM2NS51Z20uYWMuaWQiLCJ1dGkiOiJkYklaUEJkREFVVy0xNmZzT2dOUUFBIiwidmVyIjoiMS4wIn0.cQdc1JrRWRyLyX_soXO63shn4rUdD17kR2rEFlmYeKVFQ08nrJ3d4vrPOAPdtm0YqQClRndBNiu4zNghSYadykhjvvNkSghfGxsNDjZmHctRnjoMOTrUW8Su_c6qLFCtKICbK1xFiOo-2JLuRJ30dwCSq6itQFUwDxzVaEoXjhPUZfcyy53NT8IkQdPR8QHlhmIqvvhRF84Gl3IcAvqHw_3sGfEOCRk9O7j5NGdRB2TnLwfUY9vyeeWidJE71B18L42pYkfociC66syL4jjCyZ3BM7jQYoiS36Nl6Z0NmRipZOSlXKQYK_TMFiuzjF-hldVL8gO5GINddkrmlLLLPA\n"
     ]
    }
   ],
   "source": [
    "bearer_token = f'Bearer {token}'\n",
    "print(bearer_token)"
   ]
  },
  {
   "cell_type": "markdown",
   "metadata": {},
   "source": [
    "\n",
    "Create supporting methods to support multipart\\related"
   ]
  },
  {
   "cell_type": "code",
   "execution_count": 11,
   "metadata": {},
   "outputs": [],
   "source": [
    "def encode_multipart_related(fields, boundary=None):\n",
    "    if boundary is None:\n",
    "        boundary = choose_boundary()\n",
    "\n",
    "    body, _ = encode_multipart_formdata(fields, boundary)\n",
    "    content_type = str('multipart/related; boundary=%s' % boundary)\n",
    "\n",
    "    return body, content_type"
   ]
  },
  {
   "cell_type": "code",
   "execution_count": 12,
   "metadata": {},
   "outputs": [],
   "source": [
    "client = requests.session()"
   ]
  },
  {
   "cell_type": "code",
   "execution_count": 13,
   "metadata": {},
   "outputs": [],
   "source": [
    "#verify\n",
    "headers = {\"Authorization\":bearer_token}\n",
    "url= f'{base_url}/changefeed'\n",
    "\n",
    "response = client.get(url,headers=headers)\n",
    "if (response.status_code != 200):\n",
    "    print('Error! Likely not authenticated!')"
   ]
  },
  {
   "cell_type": "code",
   "execution_count": 14,
   "metadata": {},
   "outputs": [
    {
     "data": {
      "text/plain": [
       "<Response [409]>"
      ]
     },
     "execution_count": 14,
     "metadata": {},
     "output_type": "execute_result"
    }
   ],
   "source": [
    "#upload blue-circle.dcm\n",
    "filepath = Path(path_to_dicoms_dir).joinpath('blue-circle.dcm')\n",
    "\n",
    "# Read through file and load bytes into memory \n",
    "with open(filepath,'rb') as reader:\n",
    "    rawfile = reader.read()\n",
    "files = {'file': ('dicomfile', rawfile, 'application/dicom')}\n",
    "\n",
    "#encode as multipart_related\n",
    "body, content_type = encode_multipart_related(fields = files)\n",
    "\n",
    "headers = {'Accept':'application/dicom+json', \"Content-Type\":content_type, \"Authorization\":bearer_token}\n",
    "\n",
    "url = f'{base_url}/studies'\n",
    "response = client.post(url, body, headers=headers, verify=False)\n",
    "response"
   ]
  },
  {
   "cell_type": "markdown",
   "metadata": {},
   "source": [
    "WADO"
   ]
  },
  {
   "cell_type": "code",
   "execution_count": 15,
   "metadata": {},
   "outputs": [
    {
     "data": {
      "text/plain": [
       "<Response [200]>"
      ]
     },
     "execution_count": 15,
     "metadata": {},
     "output_type": "execute_result"
    }
   ],
   "source": [
    "#Retrieve all instances within a study\n",
    "url = f'{base_url}/studies/{study_uid}'\n",
    "headers = {'Accept':'multipart/related; type=\"application/dicom\"; transfer-syntax=*', \"Authorization\":bearer_token}\n",
    "\n",
    "response = client.get(url, headers=headers) #, verify=False)\n",
    "response"
   ]
  },
  {
   "cell_type": "code",
   "execution_count": 101,
   "metadata": {},
   "outputs": [
    {
     "name": "stdout",
     "output_type": "stream",
     "text": [
      "Requirement already satisfied: requests-toolbelt in c:\\users\\asus\\anaconda3\\envs\\dicomservice\\lib\\site-packages (1.0.0)\n",
      "Requirement already satisfied: requests<3.0.0,>=2.0.1 in c:\\users\\asus\\anaconda3\\envs\\dicomservice\\lib\\site-packages (from requests-toolbelt) (2.31.0)\n",
      "Requirement already satisfied: charset-normalizer<4,>=2 in c:\\users\\asus\\anaconda3\\envs\\dicomservice\\lib\\site-packages (from requests<3.0.0,>=2.0.1->requests-toolbelt) (3.3.2)\n",
      "Requirement already satisfied: idna<4,>=2.5 in c:\\users\\asus\\anaconda3\\envs\\dicomservice\\lib\\site-packages (from requests<3.0.0,>=2.0.1->requests-toolbelt) (3.6)\n",
      "Requirement already satisfied: urllib3<3,>=1.21.1 in c:\\users\\asus\\anaconda3\\envs\\dicomservice\\lib\\site-packages (from requests<3.0.0,>=2.0.1->requests-toolbelt) (2.1.0)\n",
      "Requirement already satisfied: certifi>=2017.4.17 in c:\\users\\asus\\anaconda3\\envs\\dicomservice\\lib\\site-packages (from requests<3.0.0,>=2.0.1->requests-toolbelt) (2023.11.17)\n",
      "Note: you may need to restart the kernel to use updated packages.\n"
     ]
    }
   ],
   "source": [
    "%pip install requests-toolbelt"
   ]
  },
  {
   "cell_type": "code",
   "execution_count": 16,
   "metadata": {},
   "outputs": [
    {
     "name": "stdout",
     "output_type": "stream",
     "text": [
      "b'application/dicom; transfer-syntax=1.2.840.10008.1.2.1'\n",
      "Anony Mous\n",
      "1.2.826.0.1.3680043.8.498.12714725698140337137334606354172323212\n",
      "b'application/dicom; transfer-syntax=1.2.840.10008.1.2.1'\n",
      "Anony Mous\n",
      "1.2.826.0.1.3680043.8.498.47359123102728459884412887463296905395\n",
      "b'application/dicom; transfer-syntax=1.2.840.10008.1.2.1'\n",
      "Anony Mous\n",
      "1.2.826.0.1.3680043.8.498.13273713909719068980354078852867170114\n"
     ]
    }
   ],
   "source": [
    "import requests_toolbelt as tb\n",
    "from io import BytesIO\n",
    "\n",
    "mpd = tb.MultipartDecoder.from_response(response)\n",
    "for part in mpd.parts:\n",
    "    # Note that the headers are returned as binary!\n",
    "    print(part.headers[b'content-type'])\n",
    "    \n",
    "    # You can convert the binary body (of each part) into a pydicom DataSet\n",
    "    #   And get direct access to the various underlying fields\n",
    "    dcm = pydicom.dcmread(BytesIO(part.content))\n",
    "    print(dcm.PatientName)\n",
    "    print(dcm.SOPInstanceUID)"
   ]
  },
  {
   "cell_type": "code",
   "execution_count": 103,
   "metadata": {},
   "outputs": [
    {
     "data": {
      "text/plain": [
       "<Response [200]>"
      ]
     },
     "execution_count": 103,
     "metadata": {},
     "output_type": "execute_result"
    }
   ],
   "source": [
    "#Retrieve metadata of all instances in study\n",
    "url = f'{base_url}/studies/{study_uid}/metadata'\n",
    "headers = {'Accept':'application/dicom+json', \"Authorization\":bearer_token}\n",
    "\n",
    "response = client.get(url, headers=headers) #, verify=False)\n",
    "response"
   ]
  },
  {
   "cell_type": "code",
   "execution_count": 17,
   "metadata": {},
   "outputs": [
    {
     "data": {
      "text/plain": [
       "<Response [200]>"
      ]
     },
     "execution_count": 17,
     "metadata": {},
     "output_type": "execute_result"
    }
   ],
   "source": [
    "#Retrieve all instances within a series\n",
    "url = f'{base_url}/studies/{study_uid}/series/{series_uid}'\n",
    "headers = {'Accept':'multipart/related; type=\"application/dicom\"; transfer-syntax=*', \"Authorization\":bearer_token}\n",
    "\n",
    "response = client.get(url, headers=headers) #, verify=False)\n",
    "response"
   ]
  },
  {
   "cell_type": "code",
   "execution_count": 18,
   "metadata": {},
   "outputs": [
    {
     "name": "stdout",
     "output_type": "stream",
     "text": [
      "b'application/dicom; transfer-syntax=1.2.840.10008.1.2.1'\n",
      "Anony Mous\n",
      "1.2.826.0.1.3680043.8.498.45787841905473114233124723359129632652\n",
      "b'application/dicom; transfer-syntax=1.2.840.10008.1.2.1'\n",
      "Anony Mous\n",
      "1.2.826.0.1.3680043.8.498.45787841905473114233124723359129632652\n"
     ]
    }
   ],
   "source": [
    "mpd = tb.MultipartDecoder.from_response(response)\n",
    "for part in mpd.parts:\n",
    "    # Note that the headers are returned as binary!\n",
    "    print(part.headers[b'content-type'])\n",
    "    \n",
    "    # You can convert the binary body (of each part) into a pydicom DataSet\n",
    "    #   And get direct access to the various underlying fields\n",
    "    dcm = pydicom.dcmread(BytesIO(part.content))\n",
    "    print(dcm.PatientName)\n",
    "    print(dcm.SeriesInstanceUID)"
   ]
  },
  {
   "cell_type": "code",
   "execution_count": 19,
   "metadata": {},
   "outputs": [
    {
     "data": {
      "text/plain": [
       "Dataset.file_meta -------------------------------\n",
       "(0002, 0000) File Meta Information Group Length  UL: 242\n",
       "(0002, 0001) File Meta Information Version       OB: b'\\x00\\x01'\n",
       "(0002, 0002) Media Storage SOP Class UID         UI: Secondary Capture Image Storage\n",
       "(0002, 0003) Media Storage SOP Instance UID      UI: 1.2.826.0.1.3680043.8.498.47359123102728459884412887463296905395\n",
       "(0002, 0010) Transfer Syntax UID                 UI: Explicit VR Little Endian\n",
       "(0002, 0012) Implementation Class UID            UI: 1.2.826.0.1.3680043.8.498.27364069006046809016231924679252811609\n",
       "(0002, 0013) Implementation Version Name         SH: 'PYDICOM 1.4.2'\n",
       "-------------------------------------------------\n",
       "(0008, 0005) Specific Character Set              CS: 'ISO_IR 192'\n",
       "(0008, 0008) Image Type                          CS: ['DERIVED', 'SECONDARY', 'OTHER']\n",
       "(0008, 0016) SOP Class UID                       UI: Secondary Capture Image Storage\n",
       "(0008, 0018) SOP Instance UID                    UI: 1.2.826.0.1.3680043.8.498.47359123102728459884412887463296905395\n",
       "(0008, 0020) Study Date                          DA: '20200922'\n",
       "(0008, 0023) Content Date                        DA: ''\n",
       "(0008, 002a) Acquisition DateTime                DT: ''\n",
       "(0008, 0030) Study Time                          TM: '120000'\n",
       "(0008, 0033) Content Time                        TM: ''\n",
       "(0008, 0050) Accession Number                    SH: ''\n",
       "(0008, 0060) Modality                            CS: 'OT'\n",
       "(0008, 0064) Conversion Type                     CS: 'SYN'\n",
       "(0008, 0090) Referring Physician's Name          PN: 'Doctor Doc'\n",
       "(0010, 0010) Patient's Name                      PN: 'Anony Mous'\n",
       "(0010, 0020) Patient ID                          LO: 'ID1'\n",
       "(0010, 0030) Patient's Birth Date                DA: ''\n",
       "(0010, 0040) Patient's Sex                       CS: 'F'\n",
       "(0010, 1010) Patient's Age                       AS: '024Y'\n",
       "(0018, 5100) Patient Position                    CS: ''\n",
       "(0020, 000d) Study Instance UID                  UI: 1.2.826.0.1.3680043.8.498.13230779778012324449356534479549187420\n",
       "(0020, 000e) Series Instance UID                 UI: 1.2.826.0.1.3680043.8.498.45787841905473114233124723359129632652\n",
       "(0020, 0010) Study ID                            SH: '1'\n",
       "(0020, 0011) Series Number                       IS: '1'\n",
       "(0020, 0013) Instance Number                     IS: '1'\n",
       "(0020, 0020) Patient Orientation                 CS: ''\n",
       "(0020, 0060) Laterality                          CS: ''\n",
       "(0020, 4000) Image Comments                      LT: Array of 25 elements\n",
       "(0028, 0002) Samples per Pixel                   US: 3\n",
       "(0028, 0004) Photometric Interpretation          CS: 'RGB'\n",
       "(0028, 0006) Planar Configuration                US: 0\n",
       "(0028, 0010) Rows                                US: 979\n",
       "(0028, 0011) Columns                             US: 985\n",
       "(0028, 0030) Pixel Spacing                       DS: [1.0, 1.0]\n",
       "(0028, 0100) Bits Allocated                      US: 8\n",
       "(0028, 0101) Bits Stored                         US: 8\n",
       "(0028, 0102) High Bit                            US: 7\n",
       "(0028, 0103) Pixel Representation                US: 0\n",
       "(0028, 0106) Smallest Image Pixel Value          US: 0\n",
       "(0028, 0107) Largest Image Pixel Value           US: 255\n",
       "(7fe0, 0010) Pixel Data                          OB: Array of 2892946 elements"
      ]
     },
     "execution_count": 19,
     "metadata": {},
     "output_type": "execute_result"
    }
   ],
   "source": [
    "dcm"
   ]
  },
  {
   "cell_type": "code",
   "execution_count": 22,
   "metadata": {},
   "outputs": [
    {
     "data": {
      "text/plain": [
       "<matplotlib.image.AxesImage at 0x16d908803d0>"
      ]
     },
     "execution_count": 22,
     "metadata": {},
     "output_type": "execute_result"
    },
    {
     "data": {
      "image/png": "[encoded data removed]",
      "text/plain": [
       "<Figure size 640x480 with 1 Axes>"
      ]
     },
     "metadata": {},
     "output_type": "display_data"
    }
   ],
   "source": [
    "import matplotlib.pyplot as plt\n",
    "\n",
    "plt.imshow(dcm.pixel_array)"
   ]
  },
  {
   "cell_type": "code",
   "execution_count": null,
   "metadata": {},
   "outputs": [
    {
     "data": {
      "text/plain": [
       "<Response [200]>"
      ]
     },
     "execution_count": 78,
     "metadata": {},
     "output_type": "execute_result"
    }
   ],
   "source": [
    "#retrieve metadata of all instances in series\n",
    "url = f'{base_url}/studies/{study_uid}/series/{series_uid}/metadata'\n",
    "headers = {'Accept':'application/dicom+json', \"Authorization\":bearer_token}\n",
    "\n",
    "response = client.get(url, headers=headers) #, verify=False)\n",
    "response"
   ]
  },
  {
   "cell_type": "code",
   "execution_count": 25,
   "metadata": {},
   "outputs": [
    {
     "data": {
      "text/plain": [
       "<Response [200]>"
      ]
     },
     "execution_count": 25,
     "metadata": {},
     "output_type": "execute_result"
    }
   ],
   "source": [
    "#Retrieve a single instance within a series of a study\n",
    "url = f'{base_url}/studies/{study_uid}/series/{series_uid}/instances/{instance_uid}'\n",
    "headers = {'Accept':'application/dicom; transfer-syntax=*', \"Authorization\":bearer_token}\n",
    "\n",
    "response = client.get(url, headers=headers) #, verify=False)\n",
    "response"
   ]
  },
  {
   "cell_type": "code",
   "execution_count": null,
   "metadata": {},
   "outputs": [
    {
     "data": {
      "text/plain": [
       "<Response [200]>"
      ]
     },
     "execution_count": 80,
     "metadata": {},
     "output_type": "execute_result"
    }
   ],
   "source": [
    "#Retrieve metadata of a single instance within a series of a study\n",
    "url = f'{base_url}/studies/{study_uid}/series/{series_uid}/instances/{instance_uid}/metadata'\n",
    "headers = {'Accept':'application/dicom+json', \"Authorization\":bearer_token}\n",
    "\n",
    "response = client.get(url, headers=headers) #, verify=False)\n",
    "response"
   ]
  },
  {
   "cell_type": "code",
   "execution_count": null,
   "metadata": {},
   "outputs": [
    {
     "data": {
      "text/plain": [
       "<Response [200]>"
      ]
     },
     "execution_count": 81,
     "metadata": {},
     "output_type": "execute_result"
    }
   ],
   "source": [
    "#Retrieve one or more frames from a single instance\n",
    "url = f'{base_url}/studies/{study_uid}/series/{series_uid}/instances/{instance_uid}/frames/1'\n",
    "headers = {'Accept':'multipart/related; type=\"application/octet-stream\"; transfer-syntax=*', \"Authorization\":bearer_token}\n",
    "\n",
    "response = client.get(url, headers=headers) #, verify=False)\n",
    "response"
   ]
  },
  {
   "cell_type": "markdown",
   "metadata": {},
   "source": [
    "QIDO"
   ]
  },
  {
   "cell_type": "code",
   "execution_count": null,
   "metadata": {},
   "outputs": [],
   "source": [
    "def encode_multipart_related(fields, boundary=None):\n",
    "    if boundary is None:\n",
    "        boundary = choose_boundary()\n",
    "\n",
    "    body, _ = encode_multipart_formdata(fields, boundary)\n",
    "    content_type = str('multipart/related; boundary=%s' % boundary)\n",
    "\n",
    "    return body, content_type"
   ]
  },
  {
   "cell_type": "code",
   "execution_count": 23,
   "metadata": {},
   "outputs": [
    {
     "data": {
      "text/plain": [
       "<Response [200]>"
      ]
     },
     "execution_count": 23,
     "metadata": {},
     "output_type": "execute_result"
    }
   ],
   "source": [
    "url = f'{base_url}/studies'\n",
    "headers = {'Accept':'application/dicom+json', \"Authorization\":bearer_token}\n",
    "params = {'StudyInstanceUID':study_uid}\n",
    "\n",
    "response = client.get(url, headers=headers, params=params) #, verify=False)\n",
    "response"
   ]
  }
 ],
 "metadata": {
  "kernelspec": {
   "display_name": "dicomservice",
   "language": "python",
   "name": "python3"
  },
  "language_info": {
   "codemirror_mode": {
    "name": "ipython",
    "version": 3
   },
   "file_extension": ".py",
   "mimetype": "text/x-python",
   "name": "python",
   "nbconvert_exporter": "python",
   "pygments_lexer": "ipython3",
   "version": "3.10.13"
  },
  "orig_nbformat": 4
 },
 "nbformat": 4,
 "nbformat_minor": 2
}
